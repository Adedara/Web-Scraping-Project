{
 "cells": [
  {
   "cell_type": "code",
   "execution_count": 16,
   "metadata": {},
   "outputs": [],
   "source": [
    "from bs4 import BeautifulSoup\n",
    "import requests\n",
    "import pandas"
   ]
  },
  {
   "cell_type": "code",
   "execution_count": null,
   "metadata": {},
   "outputs": [],
   "source": [
    "html_text = requests.get('https://www.bookdepository.com/bestsellers').text\n",
    "page = BeautifulSoup(html_text, 'lxml')\n",
    "books = page.find_all('div', class_= 'book-item')\n",
    "\n",
    "title_list = []\n",
    "author_list = []\n",
    "price_list = []\n",
    "\n",
    "for book in books: \n",
    "    author = book.find('p', class_='author').text.strip()\n",
    "    title = book.find('h3', class_= 'title').text.strip()\n",
    "    price = book.find('div', class_='price-wrap').text.replace('\\n','').strip()\n",
    "\n",
    "    author_list.append(author)\n",
    "    title_list.append(title)\n",
    "    price_list.append(price)\n",
    "\n",
    "    print(f'''\n",
    "    Title: {title}  \n",
    "    Author: {author}\n",
    "    Price: {price}\n",
    "    '''\n",
    "    )"
   ]
  },
  {
   "cell_type": "code",
   "execution_count": 28,
   "metadata": {},
   "outputs": [],
   "source": [
    "df = pandas.DataFrame()\n",
    "df['Title'] = title_list\n",
    "df['Author'] = author_list\n",
    "df['price'] = price_list\n",
    "df.to_csv('books.csv')"
   ]
  }
 ],
 "metadata": {
  "kernelspec": {
   "display_name": "Python 3.10.0 64-bit",
   "language": "python",
   "name": "python3"
  },
  "language_info": {
   "codemirror_mode": {
    "name": "ipython",
    "version": 3
   },
   "file_extension": ".py",
   "mimetype": "text/x-python",
   "name": "python",
   "nbconvert_exporter": "python",
   "pygments_lexer": "ipython3",
   "version": "3.10.0"
  },
  "orig_nbformat": 4,
  "vscode": {
   "interpreter": {
    "hash": "26de051ba29f2982a8de78e945f0abaf191376122a1563185a90213a26c5da77"
   }
  }
 },
 "nbformat": 4,
 "nbformat_minor": 2
}
